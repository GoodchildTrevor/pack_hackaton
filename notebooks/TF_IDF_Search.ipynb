{
 "cells": [
  {
   "cell_type": "markdown",
   "metadata": {},
   "source": [
    "# Импорт необходимых библиотек"
   ]
  },
  {
   "cell_type": "code",
   "execution_count": 1,
   "metadata": {
    "id": "tp5p-dLpQvMG"
   },
   "outputs": [],
   "source": [
    "import pandas as pd\n",
    "import numpy as np\n",
    "import joblib\n",
    "\n",
    "from sklearn.feature_extraction.text import TfidfVectorizer\n",
    "from sklearn.feature_extraction.text import CountVectorizer\n",
    "from sklearn.metrics.pairwise import cosine_similarity"
   ]
  },
  {
   "cell_type": "markdown",
   "metadata": {},
   "source": [
    "# Чтение и обзор файла"
   ]
  },
  {
   "cell_type": "code",
   "execution_count": 2,
   "metadata": {
    "colab": {
     "base_uri": "https://localhost:8080/",
     "height": 206
    },
    "id": "YK6pGpiuQxm1",
    "outputId": "f048a01b-5864-4e93-a120-2027d51f97fc"
   },
   "outputs": [],
   "source": [
    "df = pd.read_csv('all_pack_df.csv')"
   ]
  },
  {
   "cell_type": "code",
   "execution_count": 3,
   "metadata": {},
   "outputs": [
    {
     "name": "stdout",
     "output_type": "stream",
     "text": [
      "<class 'pandas.core.frame.DataFrame'>\n",
      "RangeIndex: 840 entries, 0 to 839\n",
      "Data columns (total 3 columns):\n",
      " #   Column      Non-Null Count  Dtype \n",
      "---  ------      --------------  ----- \n",
      " 0   filename    840 non-null    object\n",
      " 1   paragraphs  840 non-null    object\n",
      " 2   department  840 non-null    object\n",
      "dtypes: object(3)\n",
      "memory usage: 19.8+ KB\n"
     ]
    }
   ],
   "source": [
    "df.info()"
   ]
  },
  {
   "cell_type": "code",
   "execution_count": 4,
   "metadata": {},
   "outputs": [
    {
     "data": {
      "text/html": [
       "<div>\n",
       "<style scoped>\n",
       "    .dataframe tbody tr th:only-of-type {\n",
       "        vertical-align: middle;\n",
       "    }\n",
       "\n",
       "    .dataframe tbody tr th {\n",
       "        vertical-align: top;\n",
       "    }\n",
       "\n",
       "    .dataframe thead th {\n",
       "        text-align: right;\n",
       "    }\n",
       "</style>\n",
       "<table border=\"1\" class=\"dataframe\">\n",
       "  <thead>\n",
       "    <tr style=\"text-align: right;\">\n",
       "      <th></th>\n",
       "      <th>filename</th>\n",
       "      <th>paragraphs</th>\n",
       "      <th>department</th>\n",
       "    </tr>\n",
       "  </thead>\n",
       "  <tbody>\n",
       "    <tr>\n",
       "      <th>0</th>\n",
       "      <td>Топливная надбавка_топливный сбор в ПЭ_ЭР</td>\n",
       "      <td>С 25.03.2024 г. во всех печатных формах ПЭ/ЭР ...</td>\n",
       "      <td>DRK</td>\n",
       "    </tr>\n",
       "    <tr>\n",
       "      <th>1</th>\n",
       "      <td>Неоформленные грузы</td>\n",
       "      <td>Проверьте наличие заявки на забор груза, незав...</td>\n",
       "      <td>DRK</td>\n",
       "    </tr>\n",
       "    <tr>\n",
       "      <th>2</th>\n",
       "      <td>Выдача грузов по СМС при доставке</td>\n",
       "      <td>Выдача груза по СМС при доставке возможна в сл...</td>\n",
       "      <td>DRK</td>\n",
       "    </tr>\n",
       "    <tr>\n",
       "      <th>3</th>\n",
       "      <td>Клиент просит отключить уведомления (E-mail; В...</td>\n",
       "      <td>\\nДля отключения уведомлений, необходимо уточн...</td>\n",
       "      <td>DRK</td>\n",
       "    </tr>\n",
       "    <tr>\n",
       "      <th>4</th>\n",
       "      <td>Интернет-Эквайринг (оплата банковской картои...</td>\n",
       "      <td>\\nНа главной странице сайта www.pecom.ru клиен...</td>\n",
       "      <td>DRK</td>\n",
       "    </tr>\n",
       "  </tbody>\n",
       "</table>\n",
       "</div>"
      ],
      "text/plain": [
       "                                            filename  \\\n",
       "0         Топливная надбавка_топливный сбор в ПЭ_ЭР   \n",
       "1                                Неоформленные грузы   \n",
       "2                  Выдача грузов по СМС при доставке   \n",
       "3  Клиент просит отключить уведомления (E-mail; В...   \n",
       "4  Интернет-Эквайринг (оплата банковской картои...   \n",
       "\n",
       "                                          paragraphs department  \n",
       "0  С 25.03.2024 г. во всех печатных формах ПЭ/ЭР ...        DRK  \n",
       "1  Проверьте наличие заявки на забор груза, незав...        DRK  \n",
       "2  Выдача груза по СМС при доставке возможна в сл...        DRK  \n",
       "3  \\nДля отключения уведомлений, необходимо уточн...        DRK  \n",
       "4  \\nНа главной странице сайта www.pecom.ru клиен...        DRK  "
      ]
     },
     "execution_count": 4,
     "metadata": {},
     "output_type": "execute_result"
    }
   ],
   "source": [
    "df.head()"
   ]
  },
  {
   "cell_type": "markdown",
   "metadata": {},
   "source": [
    "# Векторизация текстов"
   ]
  },
  {
   "cell_type": "code",
   "execution_count": 5,
   "metadata": {
    "id": "SCqbQilIQ-Sy"
   },
   "outputs": [],
   "source": [
    "vectorizer = TfidfVectorizer()"
   ]
  },
  {
   "cell_type": "code",
   "execution_count": 6,
   "metadata": {
    "id": "i_nFlF0hRJw_"
   },
   "outputs": [],
   "source": [
    "X = vectorizer.fit_transform(df['paragraphs'])"
   ]
  },
  {
   "cell_type": "code",
   "execution_count": 7,
   "metadata": {},
   "outputs": [
    {
     "name": "stdout",
     "output_type": "stream",
     "text": [
      "Размерность вектора: 33444\n"
     ]
    }
   ],
   "source": [
    "dimensions = len(vectorizer.vocabulary_)\n",
    "print(\"Размерность вектора:\", dimensions)"
   ]
  },
  {
   "cell_type": "code",
   "execution_count": 8,
   "metadata": {
    "id": "K8Xt-IoKUSik"
   },
   "outputs": [],
   "source": [
    "query = \"отчет по агентским вознаграждениям FTL\"\n",
    "query_vec = vectorizer.transform([query])"
   ]
  },
  {
   "cell_type": "markdown",
   "metadata": {},
   "source": [
    "# Сходство и его оценка"
   ]
  },
  {
   "cell_type": "code",
   "execution_count": 9,
   "metadata": {
    "id": "hC12_T7YVL5W"
   },
   "outputs": [],
   "source": [
    "results = cosine_similarity(X, query_vec).flatten()"
   ]
  },
  {
   "cell_type": "code",
   "execution_count": 10,
   "metadata": {},
   "outputs": [
    {
     "name": "stdout",
     "output_type": "stream",
     "text": [
      "Similarity: 0.2554\n",
      "Paragraph: Группа доступа\n",
      "Разрешенные действия (роли)\n",
      "Комментарий\n",
      "Для всех групп доступа\n",
      "Базовые права\n",
      "Стандарт...\n",
      "---\n",
      "Similarity: 0.2055\n",
      "Paragraph: \n",
      "\n",
      " FTL-4\n",
      "                            -\n",
      "            Получение подробных данных проблемы…\n",
      "СТАТУС\n",
      "\n",
      "\n",
      "Цел...\n",
      "---\n",
      "Similarity: 0.1998\n",
      "Paragraph: \n",
      "\n",
      " FTL-32\n",
      "                            -\n",
      "            Получение подробных данных проблемы…\n",
      "СТАТУС\n",
      "\n",
      "\n",
      "\n",
      "С...\n",
      "---\n",
      "Similarity: 0.1699\n",
      "Paragraph: Основной эпик - \n",
      "\n",
      " EPIC-9968\n",
      "                            -\n",
      "            Получение подробных данных пр...\n",
      "---\n",
      "Similarity: 0.1077\n",
      "Paragraph: \n",
      "\n",
      " FTL-62\n",
      "                            -\n",
      "            Получение подробных данных проблемы…\n",
      "СТАТУС\n",
      "\n",
      "\n",
      "АР...\n",
      "---\n"
     ]
    }
   ],
   "source": [
    "top_indices = results.argsort()[-5:][::-1]\n",
    "\n",
    "for i in top_indices:\n",
    "    similarity_score = results[i]\n",
    "    print(f\"Similarity: {similarity_score:.4f}\")\n",
    "    print(f\"Paragraph: {df.iloc[i]['paragraphs'][:100]}...\") \n",
    "    if 'title' in df.columns:\n",
    "        print(f\"Title: {df.iloc[i]['title']}\")\n",
    "    print(\"---\")"
   ]
  },
  {
   "cell_type": "markdown",
   "metadata": {},
   "source": [
    "# Сохранение результатов "
   ]
  },
  {
   "cell_type": "code",
   "execution_count": 11,
   "metadata": {},
   "outputs": [
    {
     "data": {
      "text/plain": [
       "['vectors.joblib']"
      ]
     },
     "execution_count": 11,
     "metadata": {},
     "output_type": "execute_result"
    }
   ],
   "source": [
    "joblib.dump(X, 'vectors.joblib')"
   ]
  },
  {
   "cell_type": "code",
   "execution_count": 12,
   "metadata": {},
   "outputs": [
    {
     "data": {
      "text/plain": [
       "['tfidf_vectorizer.joblib']"
      ]
     },
     "execution_count": 12,
     "metadata": {},
     "output_type": "execute_result"
    }
   ],
   "source": [
    "joblib.dump(vectorizer, 'tfidf_vectorizer.joblib')"
   ]
  },
  {
   "cell_type": "code",
   "execution_count": 13,
   "metadata": {},
   "outputs": [],
   "source": [
    "df.reset_index(inplace=True)\n",
    "df['index'].to_frame().to_csv('indices.csv', index=False)"
   ]
  }
 ],
 "metadata": {
  "colab": {
   "provenance": []
  },
  "kernelspec": {
   "display_name": "Python 3 (ipykernel)",
   "language": "python",
   "name": "python3"
  },
  "language_info": {
   "codemirror_mode": {
    "name": "ipython",
    "version": 3
   },
   "file_extension": ".py",
   "mimetype": "text/x-python",
   "name": "python",
   "nbconvert_exporter": "python",
   "pygments_lexer": "ipython3",
   "version": "3.11.5"
  }
 },
 "nbformat": 4,
 "nbformat_minor": 1
}
