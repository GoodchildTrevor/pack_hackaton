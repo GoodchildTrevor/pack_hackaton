{
 "cells": [
  {
   "cell_type": "code",
   "execution_count": null,
   "metadata": {
    "id": "lxziWRDc--v0"
   },
   "outputs": [],
   "source": [
    "!pip install nltk\n",
    "!pip install -U sentence-transformers\n",
    "!pip install fasttext\n",
    "!pip install langchain\n",
    "!pip install spacy\n",
    "!python -m spacy download ru_core_news_sm"
   ]
  },
  {
   "cell_type": "code",
   "execution_count": null,
   "metadata": {
    "id": "6Vx2OLBq-_Mr"
   },
   "outputs": [],
   "source": [
    "import pandas as pd\n",
    "import numpy as np\n",
    "import torch\n",
    "import nltk\n",
    "import spacy\n",
    "import re\n",
    "\n",
    "from sklearn.feature_extraction.text import TfidfVectorizer\n",
    "from sklearn.feature_extraction.text import CountVectorizer\n",
    "from sklearn.metrics.pairwise import cosine_similarity\n",
    "\n",
    "\n",
    "import langchain\n",
    "from langchain.text_splitter import RecursiveCharacterTextSplitter\n",
    "from nltk.corpus import stopwords\n",
    "from nltk.tokenize import word_tokenize\n",
    "\n",
    "# Загрузка стоп-слов\n",
    "nltk.download('punkt')\n",
    "nltk.download('stopwords')\n",
    "nltk.download('wordnet')\n",
    "\n",
    "import fasttext\n",
    "import fasttext.util\n",
    "\n",
    "from transformers import AutoTokenizer, AutoModel\n",
    "\n",
    "\n",
    "from google.colab import userdata\n",
    "userdata.get('secret')"
   ]
  },
  {
   "cell_type": "code",
   "execution_count": null,
   "metadata": {
    "id": "LHUW452g_Bps"
   },
   "outputs": [],
   "source": [
    "df = pd.read_csv('all_df.csv')\n",
    "df.head()"
   ]
  },
  {
   "cell_type": "markdown",
   "metadata": {
    "id": "bsbDagQx_FSO"
   },
   "source": [
    "TF-IDF с делением на чанки и очистка+лемматизация"
   ]
  },
  {
   "cell_type": "code",
   "execution_count": null,
   "metadata": {
    "id": "aakug0Q2_F9J"
   },
   "outputs": [],
   "source": [
    "# Function to clean and preprocess text\n",
    "def clean_text(text):\n",
    "    # Remove special characters\n",
    "    text = re.sub(r'\\W+', ' ', text)\n",
    "    # Convert to lowercase\n",
    "    text = text.lower()\n",
    "    # Lemmatization\n",
    "    doc = nlp(text)\n",
    "    lemmatized_text = ' '.join(token.lemma_ for token in doc if not token.is_stop)\n",
    "    return lemmatized_text"
   ]
  },
  {
   "cell_type": "code",
   "execution_count": null,
   "metadata": {
    "id": "hoNDWnx8_IwS"
   },
   "outputs": [],
   "source": [
    "# Load the Russian lemmatizer from SpaCy\n",
    "nlp = spacy.load(\"ru_core_news_sm\")\n",
    "\n",
    "# Step 1: Prepare your dataset\n",
    "documents = df[['filename', 'paragraphs']].to_dict(orient='records')\n",
    "\n",
    "# Using RecursiveCharacterTextSplitter for splitting into chunks\n",
    "text_splitter = RecursiveCharacterTextSplitter(chunk_size=1000, chunk_overlap=100)\n",
    "chunks = []\n",
    "for entry in documents:\n",
    "    title = entry['filename']\n",
    "    paragraphs = entry['paragraphs']\n",
    "    split_chunks = text_splitter.split_text(paragraphs)\n",
    "    for chunk in split_chunks:\n",
    "        cleaned_chunk = clean_text(chunk)\n",
    "        chunks.append((title, cleaned_chunk))  # Store title and cleaned text\n",
    "\n",
    "# Create and fit the TF-IDF vectorizer\n",
    "vectorizer = TfidfVectorizer()\n",
    "X = vectorizer.fit_transform(chunk for _, chunk in chunks)"
   ]
  },
  {
   "cell_type": "code",
   "execution_count": null,
   "metadata": {
    "id": "73m1ubX7_KtU"
   },
   "outputs": [],
   "source": [
    "# Get the indices of the top 10 most similar entries\n",
    "# Your query\n",
    "query = \"Выставление документа Счет на оплату клиенту, при изменении данных о плательщики, городе оплаты и сумме.\"\n",
    "cleaned_query = clean_text(query)\n",
    "query_vec = vectorizer.transform([cleaned_query])\n",
    "\n",
    "# Calculate cosine similarity\n",
    "results = cosine_similarity(X, query_vec).flatten()\n",
    "\n",
    "top_indices = results.argsort()[-10:][::-1]\n",
    "\n",
    "# Print the top 10 most similar entries\n",
    "for i in top_indices:\n",
    "    similarity_score = results[i]\n",
    "    print(f\"Similarity: {similarity_score:.4f}\")\n",
    "    print(f\"Title: {chunks[i][0]}\")\n",
    "    print()"
   ]
  }
 ],
 "metadata": {
  "colab": {
   "provenance": []
  },
  "kernelspec": {
   "display_name": "Python 3 (ipykernel)",
   "language": "python",
   "name": "python3"
  },
  "language_info": {
   "codemirror_mode": {
    "name": "ipython",
    "version": 3
   },
   "file_extension": ".py",
   "mimetype": "text/x-python",
   "name": "python",
   "nbconvert_exporter": "python",
   "pygments_lexer": "ipython3",
   "version": "3.11.5"
  }
 },
 "nbformat": 4,
 "nbformat_minor": 1
}
